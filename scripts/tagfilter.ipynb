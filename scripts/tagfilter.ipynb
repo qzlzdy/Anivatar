{
 "cells": [
  {
   "cell_type": "code",
   "execution_count": 23,
   "metadata": {
    "ExecuteTime": {
     "end_time": "2021-01-22T14:41:06.625064Z",
     "start_time": "2021-01-22T14:41:00.635386Z"
    }
   },
   "outputs": [],
   "source": [
    "import json\n",
    "from pathlib import Path        \n",
    "from operator import itemgetter\n",
    "# load tags\n",
    "with open('class_names_6000.json', 'r') as f:\n",
    "    class_name = json.load(f)\n",
    "tag_count = {tag:0 for tag in class_name}\n",
    "\n",
    "with open('danbooru-tags.json', 'r') as f:\n",
    "    img_tags = [json.loads(line) for line in f]\n",
    "img_tags_t = {}\n",
    "for img_tag in img_tags:\n",
    "    if img_tag['id'][-4] == '.':\n",
    "        img_tags_t[img_tag['id'][:-4]] = img_tag['tags']\n",
    "    else:\n",
    "        img_tags_t[img_tag['id'][:-5]] = img_tag['tags']\n",
    "img_tags = img_tags_t\n",
    "# load file name\n",
    "setu_root = Path('../datasets/danbooru-images/portrait/setu/')\n",
    "all_setus = setu_root.glob('*')\n",
    "all_setus = [str(path) for path in all_setus]\n",
    "all_setus = [path[42:-6] for path in all_setus]\n",
    "danbooru_root = Path('../datasets/danbooru-images/portrait/')\n",
    "all_danboorus = danbooru_root.glob('**/0*/*')\n",
    "all_danboorus = [str(path) for path in all_danboorus]\n",
    "all_danboorus = [path[42:-5] for path in all_danboorus]\n",
    "all_portraits = all_setus + all_danboorus\n",
    "# count\n",
    "for portrait in all_portraits:\n",
    "    tags = img_tags[portrait]\n",
    "    for tag in tags:\n",
    "        tag_count[tag] += 1\n",
    "# sort\n",
    "sorted_tag = list(tag_count.items())\n",
    "sorted_tag = sorted(sorted_tag, key=itemgetter(1), reverse=True)\n",
    "# store\n",
    "with open('tag_list.txt', 'w') as f:\n",
    "    for tag in sorted_tag:\n",
    "        if tag[1] < 1000:\n",
    "            break\n",
    "        f.write('{:60}{}\\n'.format(tag[0], tag[1]))"
   ]
  },
  {
   "cell_type": "code",
   "execution_count": 54,
   "metadata": {
    "ExecuteTime": {
     "end_time": "2021-01-22T15:26:11.888223Z",
     "start_time": "2021-01-22T15:26:09.611539Z"
    }
   },
   "outputs": [
    {
     "ename": "AttributeError",
     "evalue": "'dict' object has no attribute 'key'",
     "output_type": "error",
     "traceback": [
      "\u001b[0;31m---------------------------------------------------------------------------\u001b[0m",
      "\u001b[0;31mAttributeError\u001b[0m                            Traceback (most recent call last)",
      "\u001b[0;32m<ipython-input-54-62259562ae7a>\u001b[0m in \u001b[0;36m<module>\u001b[0;34m\u001b[0m\n\u001b[1;32m     17\u001b[0m             \u001b[0mtags\u001b[0m\u001b[0;34m.\u001b[0m\u001b[0mappend\u001b[0m\u001b[0;34m(\u001b[0m\u001b[0mtag\u001b[0m\u001b[0;34m)\u001b[0m\u001b[0;34m\u001b[0m\u001b[0;34m\u001b[0m\u001b[0m\n\u001b[1;32m     18\u001b[0m     \u001b[0mport_tags\u001b[0m\u001b[0;34m[\u001b[0m\u001b[0mkey\u001b[0m\u001b[0;34m]\u001b[0m \u001b[0;34m=\u001b[0m \u001b[0mtags\u001b[0m\u001b[0;34m\u001b[0m\u001b[0;34m\u001b[0m\u001b[0m\n\u001b[0;32m---> 19\u001b[0;31m \u001b[0mprint\u001b[0m\u001b[0;34m(\u001b[0m\u001b[0mlen\u001b[0m\u001b[0;34m(\u001b[0m\u001b[0mport_tags\u001b[0m\u001b[0;34m.\u001b[0m\u001b[0mkey\u001b[0m\u001b[0;34m)\u001b[0m\u001b[0;34m)\u001b[0m\u001b[0;34m\u001b[0m\u001b[0;34m\u001b[0m\u001b[0m\n\u001b[0m\u001b[1;32m     20\u001b[0m \u001b[0;31m#port_tags = json.dumps(port_tags)\u001b[0m\u001b[0;34m\u001b[0m\u001b[0;34m\u001b[0m\u001b[0;34m\u001b[0m\u001b[0m\n\u001b[1;32m     21\u001b[0m \u001b[0;31m#with open('portrait_tags.json', 'w') as f:\u001b[0m\u001b[0;34m\u001b[0m\u001b[0;34m\u001b[0m\u001b[0;34m\u001b[0m\u001b[0m\n",
      "\u001b[0;31mAttributeError\u001b[0m: 'dict' object has no attribute 'key'"
     ]
    }
   ],
   "source": [
    "# filte tag\n",
    "with open('careful.json', 'r') as f:\n",
    "    careful = json.load(f)\n",
    "portrait_root = Path('../datasets/danbooru-images/portrait/')\n",
    "all_portraits = portrait_root.glob('**/*.jpg')\n",
    "all_portraits = [str(path) for path in all_portraits]\n",
    "port_tags = {}\n",
    "for portrait in all_portraits:\n",
    "    key = portrait[42:]\n",
    "    name = ''\n",
    "    if portrait[37:41] == 'setu':\n",
    "        name = portrait[42:-6]\n",
    "    else:\n",
    "        name = portrait[42:-5]\n",
    "    tags = []\n",
    "    for tag in img_tags[name]:\n",
    "        if tag in careful:\n",
    "            tags.append(tag)\n",
    "    port_tags[key] = tags\n",
    "port_tags = json.dumps(port_tags)\n",
    "with open('portrait_tags.json', 'w') as f:\n",
    "    f.write(port_tags)"
   ]
  },
  {
   "cell_type": "code",
   "execution_count": null,
   "metadata": {},
   "outputs": [],
   "source": []
  }
 ],
 "metadata": {
  "kernelspec": {
   "display_name": "Python 3",
   "language": "python",
   "name": "python3"
  },
  "language_info": {
   "codemirror_mode": {
    "name": "ipython",
    "version": 3
   },
   "file_extension": ".py",
   "mimetype": "text/x-python",
   "name": "python",
   "nbconvert_exporter": "python",
   "pygments_lexer": "ipython3",
   "version": "3.9.1"
  },
  "varInspector": {
   "cols": {
    "lenName": 16,
    "lenType": 16,
    "lenVar": 40
   },
   "kernels_config": {
    "python": {
     "delete_cmd_postfix": "",
     "delete_cmd_prefix": "del ",
     "library": "var_list.py",
     "varRefreshCmd": "print(var_dic_list())"
    },
    "r": {
     "delete_cmd_postfix": ") ",
     "delete_cmd_prefix": "rm(",
     "library": "var_list.r",
     "varRefreshCmd": "cat(var_dic_list()) "
    }
   },
   "types_to_exclude": [
    "module",
    "function",
    "builtin_function_or_method",
    "instance",
    "_Feature"
   ],
   "window_display": false
  }
 },
 "nbformat": 4,
 "nbformat_minor": 4
}
